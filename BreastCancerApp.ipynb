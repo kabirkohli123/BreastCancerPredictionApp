import numpy as np
import pandas as pd
import matplotlib.pyplot as plt
import seaborn as sns
from sklearn.preprocessing import LabelEncoder
from sklearn.model_selection import train_test_split


breastdata = pd.read_csv("BreastCancerData.csv")
breastdata


breastdata.shape


breastdata.info()


breastdata.isnull().sum()


breastdata = breastdata.drop(["Unnamed: 32"],axis=1)
breastdata


le = LabelEncoder()
breastdata['diagnosis'] = le.fit_transform(breastdata['diagnosis'])


X = breastdata.drop('diagnosis',axis=1)
Y = breastdata['diagnosis']
X_train, X_test, Y_train, Y_test = train_test_split(X,Y, test_size=0.2, random_state=42)


from sklearn.preprocessing import StandardScaler
scaler = StandardScaler()
X_train = scaler.fit_transform(X_train)
X_test = scaler.fit_transform(X_test)


sns.countplot(x=breastdata['diagnosis'])
plt.title('Distribution of Diagnosis')
plt.xlabel('Diagnosis')
plt.ylabel('Count')
plt.show()


breastdata.corr()


from sklearn.linear_model import LogisticRegression
from sklearn.metrics import accuracy_score

lr = LogisticRegression()
lr.fit(X_train,Y_train)

Y_pred = lr.predict(X_test)
Accuracy = accuracy_score(Y_test,Y_pred)
print("Accuracy : ",Accuracy)


import numpy as np

input_text = (-0.23717126, -0.64487029, -0.11382239, -0.57427777, -0.60294971,
        1.0897546 ,  0.91543814,  0.41448279,  0.09311633,  1.78465117,
        2.11520208,  0.28454765, -0.31910982,  0.2980991 ,  0.01968238,
       -0.47096352,  0.45757106,  0.28733283, -0.23125455,  0.26417944,
        0.66325388,  0.12170193,  0.42656325,  0.36885508,  0.02065602,
        1.39513782,  2.0973271 ,  2.01276347,  0.61938913,  2.9421769 ,
        3.15970842)
np_df = np.asarray(input_text)
pred = lr.predict(np_df.reshape(1,-1))
if pred[0] == 1:
    print("Cancerous")
else:
    print("Not Cancerous")


import pickle
pickle.dump(lr,open('model.pkl','wb'))



